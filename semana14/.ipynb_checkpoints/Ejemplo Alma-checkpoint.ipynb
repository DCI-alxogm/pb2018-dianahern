{
 "cells": [
  {
   "cell_type": "markdown",
   "metadata": {},
   "source": [
    "Uso y definición de funciones"
   ]
  },
  {
   "cell_type": "code",
   "execution_count": 44,
   "metadata": {},
   "outputs": [],
   "source": [
    "import numpy as np\n",
    "import matplotlib.pyplot as plt\n",
    "%matplotlib inline"
   ]
  },
  {
   "cell_type": "code",
   "execution_count": 45,
   "metadata": {},
   "outputs": [],
   "source": [
    "##OPCIÓN 1\n",
    "fx=lambda x:x**2*np.cos(x)-3*x**3"
   ]
  },
  {
   "cell_type": "code",
   "execution_count": 59,
   "metadata": {},
   "outputs": [],
   "source": [
    "##OPCIÓN 2\n",
    "def fx2(x,y): \n",
    "    z=x*y*np.cos(x/y)-3*x**3\n",
    "    return z"
   ]
  },
  {
   "cell_type": "code",
   "execution_count": 47,
   "metadata": {},
   "outputs": [
    {
     "data": {
      "text/plain": [
       "<function __main__.fx2(x, y)>"
      ]
     },
     "execution_count": 47,
     "metadata": {},
     "output_type": "execute_result"
    }
   ],
   "source": [
    "fx2"
   ]
  },
  {
   "cell_type": "code",
   "execution_count": 48,
   "metadata": {},
   "outputs": [
    {
     "data": {
      "text/plain": [
       "[<matplotlib.lines.Line2D at 0x7f5817a0f9e8>]"
      ]
     },
     "execution_count": 48,
     "metadata": {},
     "output_type": "execute_result"
    },
    {
     "data": {
      "image/png": "[encoded data removed]",
      "text/plain": [
       "<Figure size 432x288 with 1 Axes>"
      ]
     },
     "metadata": {},
     "output_type": "display_data"
    }
   ],
   "source": [
    "x=np.linspace(-10,10,100)\n",
    "x2=np.linspace(0,5,5)\n",
    "y=x**2*np.cos(x)-3*x**3\n",
    "y2=x2**2*np.cos(x2)-3*x2**3\n",
    "plt.plot(x,y)\n",
    "plt.plot(x2,y2)\n"
   ]
  },
  {
   "cell_type": "code",
   "execution_count": 49,
   "metadata": {},
   "outputs": [
    {
     "data": {
      "text/plain": [
       "array([-10.        ,  -9.7979798 ,  -9.5959596 ,  -9.39393939,\n",
       "        -9.19191919,  -8.98989899,  -8.78787879,  -8.58585859,\n",
       "        -8.38383838,  -8.18181818,  -7.97979798,  -7.77777778,\n",
       "        -7.57575758,  -7.37373737,  -7.17171717,  -6.96969697,\n",
       "        -6.76767677,  -6.56565657,  -6.36363636,  -6.16161616,\n",
       "        -5.95959596,  -5.75757576,  -5.55555556,  -5.35353535,\n",
       "        -5.15151515,  -4.94949495,  -4.74747475,  -4.54545455,\n",
       "        -4.34343434,  -4.14141414,  -3.93939394,  -3.73737374,\n",
       "        -3.53535354,  -3.33333333,  -3.13131313,  -2.92929293,\n",
       "        -2.72727273,  -2.52525253,  -2.32323232,  -2.12121212,\n",
       "        -1.91919192,  -1.71717172,  -1.51515152,  -1.31313131,\n",
       "        -1.11111111,  -0.90909091,  -0.70707071,  -0.50505051,\n",
       "        -0.3030303 ,  -0.1010101 ,   0.1010101 ,   0.3030303 ,\n",
       "         0.50505051,   0.70707071,   0.90909091,   1.11111111,\n",
       "         1.31313131,   1.51515152,   1.71717172,   1.91919192,\n",
       "         2.12121212,   2.32323232,   2.52525253,   2.72727273,\n",
       "         2.92929293,   3.13131313,   3.33333333,   3.53535354,\n",
       "         3.73737374,   3.93939394,   4.14141414,   4.34343434,\n",
       "         4.54545455,   4.74747475,   4.94949495,   5.15151515,\n",
       "         5.35353535,   5.55555556,   5.75757576,   5.95959596,\n",
       "         6.16161616,   6.36363636,   6.56565657,   6.76767677,\n",
       "         6.96969697,   7.17171717,   7.37373737,   7.57575758,\n",
       "         7.77777778,   7.97979798,   8.18181818,   8.38383838,\n",
       "         8.58585859,   8.78787879,   8.98989899,   9.19191919,\n",
       "         9.39393939,   9.5959596 ,   9.7979798 ,  10.        ])"
      ]
     },
     "execution_count": 49,
     "metadata": {},
     "output_type": "execute_result"
    }
   ],
   "source": [
    "x"
   ]
  },
  {
   "cell_type": "code",
   "execution_count": 50,
   "metadata": {},
   "outputs": [
    {
     "data": {
      "text/plain": [
       "<function __main__.<lambda>(x)>"
      ]
     },
     "execution_count": 50,
     "metadata": {},
     "output_type": "execute_result"
    }
   ],
   "source": [
    "fx"
   ]
  },
  {
   "cell_type": "code",
   "execution_count": 51,
   "metadata": {},
   "outputs": [
    {
     "data": {
      "text/plain": [
       "-25.66458734618857"
      ]
     },
     "execution_count": 51,
     "metadata": {},
     "output_type": "execute_result"
    }
   ],
   "source": [
    "fx(2)"
   ]
  },
  {
   "cell_type": "code",
   "execution_count": 52,
   "metadata": {},
   "outputs": [
    {
     "data": {
      "text/plain": [
       "-2260.801551212659"
      ]
     },
     "execution_count": 52,
     "metadata": {},
     "output_type": "execute_result"
    }
   ],
   "source": [
    "fx(9)"
   ]
  },
  {
   "cell_type": "code",
   "execution_count": 53,
   "metadata": {},
   "outputs": [
    {
     "data": {
      "text/plain": [
       "array([ 2.91609285e+03,  2.73243798e+03,  2.56012156e+03,  2.39873133e+03,\n",
       "        2.24770276e+03,  2.10634882e+03,  1.97389362e+03,  1.84950775e+03,\n",
       "        1.73234384e+03,  1.62157040e+03,  1.51640249e+03,  1.41612804e+03,\n",
       "        1.32012863e+03,  1.22789425e+03,  1.13903165e+03,  1.05326633e+03,\n",
       "        9.70438452e+02,  8.90493402e+02,  8.13467816e+02,  7.39472081e+02,\n",
       "        6.68670518e+02,  6.01260435e+02,  5.37451223e+02,  4.77444610e+02,\n",
       "        4.21417044e+02,  3.69504993e+02,  3.21793732e+02,  2.78309989e+02,\n",
       "        2.39018527e+02,  2.03822578e+02,  1.72567771e+02,  1.45049060e+02,\n",
       "        1.21020000e+02,  1.00203622e+02,  8.23041172e+01,  6.70185431e+01,\n",
       "        5.40478106e+01,  4.31063033e+01,  3.39296090e+01,  2.62799945e+01,\n",
       "        1.99494233e+01,  1.47600887e+01,  1.05626048e+01,  7.23214694e+00,\n",
       "        4.66296217e+00,  2.76176525e+00,  1.44059308e+00,  6.09708589e-01,\n",
       "        1.71122819e-01,  1.32428642e-02,  7.05920327e-03,  4.16397423e-03,\n",
       "       -1.63249025e-01, -6.80402616e-01, -1.74612355e+00, -3.56749051e+00,\n",
       "       -6.35335609e+00, -1.03072508e+01, -1.56202374e+01, -2.24643069e+01,\n",
       "       -3.09868892e+01, -4.13069933e+01, -5.35133984e+01, -6.76651871e+01,\n",
       "       -8.37947629e+01, -1.01913325e+02, -1.22018600e+02, -1.44104462e+02,\n",
       "       -1.68171916e+02, -1.94240811e+02, -2.22361516e+02, -2.52625801e+02,\n",
       "       -2.85176112e+02, -3.20212495e+02, -3.57996530e+02, -3.98851759e+02,\n",
       "       -4.43160276e+02, -4.91355361e+02, -5.43910280e+02, -6.01323577e+02,\n",
       "       -6.64101457e+02, -7.32738044e+02, -8.07694476e+02, -8.89377956e+02,\n",
       "       -9.78121929e+02, -1.07416861e+03, -1.17765497e+03, -1.28860332e+03,\n",
       "       -1.40691723e+03, -1.53238351e+03, -1.66468054e+03, -1.80339308e+03,\n",
       "       -1.94803300e+03, -2.09806564e+03, -2.25294043e+03, -2.41212478e+03,\n",
       "       -2.57513961e+03, -2.74159472e+03, -2.91122237e+03, -3.08390715e+03])"
      ]
     },
     "execution_count": 53,
     "metadata": {},
     "output_type": "execute_result"
    }
   ],
   "source": [
    "fx(x)"
   ]
  },
  {
   "cell_type": "code",
   "execution_count": 60,
   "metadata": {},
   "outputs": [
    {
     "data": {
      "text/plain": [
       "[<matplotlib.lines.Line2D at 0x7f5817a53c18>]"
      ]
     },
     "execution_count": 60,
     "metadata": {},
     "output_type": "execute_result"
    },
    {
     "data": {
      "image/png": "[encoded data removed]",
      "text/plain": [
       "<Figure size 432x288 with 1 Axes>"
      ]
     },
     "metadata": {},
     "output_type": "display_data"
    }
   ],
   "source": [
    "plt.plot (fx2(x,2))"
   ]
  },
  {
   "cell_type": "code",
   "execution_count": 62,
   "metadata": {},
   "outputs": [
    {
     "data": {
      "text/plain": [
       "array([ 3.02945022e+03,  2.85099697e+03,  2.67959916e+03,  2.51511580e+03,\n",
       "        2.35740650e+03,  2.20633146e+03,  2.06175138e+03,  1.92352740e+03,\n",
       "        1.79152105e+03,  1.66559414e+03,  1.54560874e+03,  1.43142706e+03,\n",
       "        1.32291142e+03,  1.21992415e+03,  1.12232756e+03,  1.02998380e+03,\n",
       "        9.42754891e+02,  8.60502567e+02,  7.83088271e+02,  7.10373076e+02,\n",
       "        6.42217629e+02,  5.78482098e+02,  5.19026124e+02,  4.63708773e+02,\n",
       "        4.12388498e+02,  3.64923095e+02,  3.21169678e+02,  2.80984649e+02,\n",
       "        2.44223671e+02,  2.10741654e+02,  1.80392742e+02,  1.53030305e+02,\n",
       "        1.28506935e+02,  1.06674451e+02,  8.73839031e+01,  7.04855898e+01,\n",
       "        5.58290725e+01,  4.32631990e+01,  3.26361304e+01,  2.37953726e+01,\n",
       "        1.65878120e+01,  1.08597554e+01,  6.45697307e+00,  3.22474588e+00,\n",
       "        1.00791517e+00, -3.49064475e-01, -1.00206996e+00, -1.10725233e+00,\n",
       "       -8.20977683e-01, -2.99766720e-01,  2.99766720e-01,  8.20977683e-01,\n",
       "        1.10725233e+00,  1.00206996e+00,  3.49064475e-01, -1.00791517e+00,\n",
       "       -3.22474588e+00, -6.45697307e+00, -1.08597554e+01, -1.65878120e+01,\n",
       "       -2.37953726e+01, -3.26361304e+01, -4.32631990e+01, -5.58290725e+01,\n",
       "       -7.04855898e+01, -8.73839031e+01, -1.06674451e+02, -1.28506935e+02,\n",
       "       -1.53030305e+02, -1.80392742e+02, -2.10741654e+02, -2.44223671e+02,\n",
       "       -2.80984649e+02, -3.21169678e+02, -3.64923095e+02, -4.12388498e+02,\n",
       "       -4.63708773e+02, -5.19026124e+02, -5.78482098e+02, -6.42217629e+02,\n",
       "       -7.10373076e+02, -7.83088271e+02, -8.60502567e+02, -9.42754891e+02,\n",
       "       -1.02998380e+03, -1.12232756e+03, -1.21992415e+03, -1.32291142e+03,\n",
       "       -1.43142706e+03, -1.54560874e+03, -1.66559414e+03, -1.79152105e+03,\n",
       "       -1.92352740e+03, -2.06175138e+03, -2.20633146e+03, -2.35740650e+03,\n",
       "       -2.51511580e+03, -2.67959916e+03, -2.85099697e+03, -3.02945022e+03])"
      ]
     },
     "execution_count": 62,
     "metadata": {},
     "output_type": "execute_result"
    }
   ],
   "source": [
    "fx2(x,3)"
   ]
  },
  {
   "cell_type": "code",
   "execution_count": 63,
   "metadata": {},
   "outputs": [
    {
     "data": {
      "text/plain": [
       "array([ 0.0370754 ,  0.13424708,  0.11992423,  0.32653128, -1.04699085,\n",
       "        0.3145247 , -1.06983198,  0.574907  ,  0.30581667,  0.03567789])"
      ]
     },
     "execution_count": 63,
     "metadata": {},
     "output_type": "execute_result"
    }
   ],
   "source": [
    "x3=np.random.rand(10)\n",
    "fx2(x3,2)"
   ]
  },
  {
   "cell_type": "code",
   "execution_count": 74,
   "metadata": {},
   "outputs": [
    {
     "data": {
      "text/plain": [
       "[<matplotlib.lines.Line2D at 0x7f58176a3e48>]"
      ]
     },
     "execution_count": 74,
     "metadata": {},
     "output_type": "execute_result"
    },
    {
     "data": {
      "image/png": "[encoded data removed]",
      "text/plain": [
       "<Figure size 432x288 with 1 Axes>"
      ]
     },
     "metadata": {},
     "output_type": "display_data"
    }
   ],
   "source": [
    "x=np.linspace(-5,5,20)\n",
    "plt.plot (x,recta(x,3))\n",
    "#plt.plot (x,recta(x,3,-2))\n",
    "#plt.plot (x,recta(x,-4))\n"
   ]
  },
  {
   "cell_type": "code",
   "execution_count": 78,
   "metadata": {},
   "outputs": [],
   "source": [
    "def recta (a,m=1,b=0,label='x'):\n",
    "    if m<0:\n",
    "        print('Pendiente negativa encontrada')\n",
    "        m=0\n",
    "    z=m*a+b\n",
    "    plt.plot (a,z,label=label)\n",
    "    return"
   ]
  },
  {
   "cell_type": "code",
   "execution_count": 80,
   "metadata": {},
   "outputs": [
    {
     "name": "stdout",
     "output_type": "stream",
     "text": [
      "Pendiente negativa encontrada\n"
     ]
    },
    {
     "data": {
      "image/png": "[encoded data removed]",
      "text/plain": [
       "<Figure size 432x288 with 1 Axes>"
      ]
     },
     "metadata": {},
     "output_type": "display_data"
    }
   ],
   "source": [
    "x=np.linspace(-2,2,20)\n",
    "recta(x)\n",
    "recta(x,-2,1,'-x+1')\n",
    "plt.legend()\n",
    "\n",
    "plt.grid()"
   ]
  },
  {
   "cell_type": "code",
   "execution_count": null,
   "metadata": {},
   "outputs": [],
   "source": []
  }
 ],
 "metadata": {
  "kernelspec": {
   "display_name": "Python 2",
   "language": "python",
   "name": "python2"
  },
  "language_info": {
   "codemirror_mode": {
    "name": "ipython",
    "version": 3
   },
   "file_extension": ".py",
   "mimetype": "text/x-python",
   "name": "python",
   "nbconvert_exporter": "python",
   "pygments_lexer": "ipython3",
   "version": "3.6.6"
  }
 },
 "nbformat": 4,
 "nbformat_minor": 2
}
