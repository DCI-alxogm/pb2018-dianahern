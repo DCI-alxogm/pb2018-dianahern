{
 "cells": [
  {
   "cell_type": "code",
   "execution_count": 1,
   "metadata": {},
   "outputs": [],
   "source": [
    "import numpy as np ##Hago la declaración de la librería general\n",
    "import matplotlib.pyplot as plt ##Declaro la librería que sirve para graficar\n",
    "import scipy.constants as cte ##Declaro esta librería que sirve para obtener constantes\n",
    "\n",
    "%matplotlib inline\n"
   ]
  },
  {
   "cell_type": "code",
   "execution_count": null,
   "metadata": {},
   "outputs": [],
   "source": [
    "datos=np.loadtxt('IRCF.txt') "
   ]
  },
  {
   "cell_type": "code",
   "execution_count": null,
   "metadata": {},
   "outputs": [],
   "source": [
    "h=cte.Planck \n",
    "k=cte.Boltzmann\n",
    "c=cte.c\n",
    "\n",
    "frecuencia=datos[:,0] ##Se le otorga una variable a la columna #1 \n",
    "intensidad=datos[:,1] ##Se le otorga una variable a la columna #2\n",
    "barras=datos[:,3] ##Se le otorga una variable a la columna #4\n",
    "\n",
    "##f=inputs[:,0:1] \n",
    "##e=inputs[:,1:2]\n",
    "##I=inputs[:,3:4]\n",
    "\n",
    "t=np.linspace(1,5,100000)\n",
    "x=0\n",
    "xg=4000\n",
    "tu=0\n",
    "xm=np.linspace(0,0,len(I))\n",
    "g=np.linspace(0,0,len(I))\n",
    "\n",
    "\n",
    "y=np.linspace(0,0,(len(intensidad)))\n",
    "error=np.linspace(0,0,(len(intensidad)))\n",
    "t=np.linspace(1,5,10000)\n",
    "xg=4000\n",
    "x=0\n",
    "treal=0"
   ]
  }
 ],
 "metadata": {
  "kernelspec": {
   "display_name": "Python 2",
   "language": "python",
   "name": "python2"
  },
  "language_info": {
   "codemirror_mode": {
    "name": "ipython",
    "version": 3
   },
   "file_extension": ".py",
   "mimetype": "text/x-python",
   "name": "python",
   "nbconvert_exporter": "python",
   "pygments_lexer": "ipython3",
   "version": "3.6.6"
  }
 },
 "nbformat": 4,
 "nbformat_minor": 2
}
